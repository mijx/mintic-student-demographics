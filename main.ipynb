{
 "cells": [
  {
   "cell_type": "markdown",
   "metadata": {},
   "source": [
    "# Description of students in MINTIC's digital skills courses, years 2019 & 2020\n",
    "\n",
    "Republic of Colombia, STEM Education\n",
    "\n",
    "Research Question: What demographic characteristics do the students of the Digital Skills courses offered by MINTIC have?"
   ]
  },
  {
   "cell_type": "markdown",
   "metadata": {},
   "source": [
    "## Data collection and preparation"
   ]
  },
  {
   "cell_type": "code",
   "execution_count": 2,
   "metadata": {},
   "outputs": [],
   "source": [
    "import numpy as np\n",
    "import pandas as pd\n",
    "import seaborn as sns\n",
    "import matplotlib.pyplot as plt"
   ]
  },
  {
   "cell_type": "code",
   "execution_count": 4,
   "metadata": {},
   "outputs": [],
   "source": [
    "# Data Science course dataset:\n",
    "cd = pd.read_csv('assets/Habilidades_digitales_Ciencia_de_datos.csv')\n",
    "cd['PROGRAMA'] = 'CIENCIA DE DATOS'\n",
    "\n",
    "# Artificial Inteligence course dataset:\n",
    "ia = pd.read_csv('assets/Habilidades_digitales_inteligencia_artificial.csv')\n",
    "ia['PROGRAMA'] = 'INTELIGENCIA ARTIFICIAL'\n",
    "ia['META_BENEFICIARIOS']=ia['META_BENEFICIARIOS'].replace(0, np.nan)"
   ]
  },
  {
   "cell_type": "code",
   "execution_count": 5,
   "metadata": {},
   "outputs": [],
   "source": [
    "estudiantes = (pd.concat([cd,ia],ignore_index=True)\n",
    "               .query(\"ESTADOS == 'BENEFICIARIO'\")\n",
    "               .drop(['ESTADOS','PLATAFORMA_EDUCATIVA','FECHA_CORTE','ESTADO_FORMACION','META_BENEFICIARIOS','META_DINERO','INVERSION','FECHA_VIGENCIA'], axis=1)\n",
    "               .rename(columns={'NIVE_EDUCATIVO': 'NIVEL_EDUCATIVO'}))"
   ]
  },
  {
   "cell_type": "code",
   "execution_count": 33,
   "metadata": {},
   "outputs": [
    {
     "name": "stdout",
     "output_type": "stream",
     "text": [
      "\n",
      "CIENCIA DE DATOS\n",
      "Meta de estudiantes: 1713\n",
      "\n",
      "Número de beneficiados: 849\n",
      "Total aplicantes: 32294\n",
      "\n",
      "------------------------------\n",
      "\n",
      "INTELIGENCIA ARTIFICIAL\n",
      "Meta de estudiantes: 4413\n",
      "\n",
      "Número de beneficiados: 9309\n",
      "Total aplicantes: 77919\n",
      "\n"
     ]
    }
   ],
   "source": [
    "# Number of applicants and students\n",
    "cifras_cd = {'meta_beneficiarios' :int(cd['META_BENEFICIARIOS'].dropna().unique()),\n",
    "             'num_aplicantes':len(cd),\n",
    "             'num_beneficiarios':len(cd.query(\"ESTADOS == 'BENEFICIARIO'\"))}\n",
    "\n",
    "cifras_ia = {'meta_beneficiarios' :int(ia['META_BENEFICIARIOS'].dropna().unique()),\n",
    "             'num_aplicantes':len(ia),\n",
    "             'num_beneficiarios':len(ia.query(\"ESTADOS == 'BENEFICIARIO'\"))}\n",
    "\n",
    "\n",
    "plantilla = '''\n",
    "{}\n",
    "Meta de estudiantes: {}\n",
    "\n",
    "Número de beneficiados: {}\n",
    "Total aplicantes: {}\n",
    "'''\n",
    "\n",
    "print(plantilla.format(\"CIENCIA DE DATOS\",cifras_cd['meta_beneficiarios'],cifras_cd['num_beneficiarios'],cifras_cd['num_aplicantes']))\n",
    "print('-'*30)\n",
    "print(plantilla.format(\"INTELIGENCIA ARTIFICIAL\",cifras_ia['meta_beneficiarios'],cifras_ia['num_beneficiarios'],cifras_ia['num_aplicantes']))"
   ]
  },
  {
   "cell_type": "markdown",
   "metadata": {},
   "source": [
    "## Demographic data"
   ]
  },
  {
   "cell_type": "code",
   "execution_count": 306,
   "metadata": {},
   "outputs": [
    {
     "data": {
      "image/png": "[encoded data removed]",
      "text/plain": [
       "<Figure size 432x288 with 2 Axes>"
      ]
     },
     "metadata": {},
     "output_type": "display_data"
    }
   ],
   "source": [
    "# Gender of students\n",
    "genero_cd = estudiantes.query(\"PROGRAMA == 'CIENCIA DE DATOS'\")['GENERO'].value_counts()\n",
    "genero_ia = estudiantes.query(\"PROGRAMA == 'INTELIGENCIA ARTIFICIAL'\")['GENERO'].value_counts()\n",
    "\n",
    "palette = sns.color_palette('Set2',3)\n",
    "colors = {'MASCULINO': palette[0], 'FEMENINO': palette[1],'NO REGISTRA': palette[2]}\n",
    "\n",
    "plt.subplot(1,2,1)\n",
    "plt.title('Género de estudiantes\\nde Ciencia de Datos')\n",
    "plt.pie(genero_cd, labels=genero_cd.index,\n",
    "        autopct='%1.1f%%', startangle=90,\n",
    "        colors=[colors[key] for key in genero_cd.index])\n",
    "\n",
    "plt.subplot(1,2,2)\n",
    "plt.title('Género de estudiantes\\nde Inteligencia Artificial')\n",
    "plt.pie(genero_ia, labels=genero_ia.index,\n",
    "        autopct='%1.1f%%', startangle=90,\n",
    "        colors=[colors[key] for key in genero_ia.index])\n",
    "\n",
    "plt.tight_layout()\n",
    "plt.show()"
   ]
  },
  {
   "cell_type": "code",
   "execution_count": 39,
   "metadata": {
    "tags": []
   },
   "outputs": [
    {
     "data": {
      "image/png": "[encoded data removed]",
      "text/plain": [
       "<Figure size 432x288 with 1 Axes>"
      ]
     },
     "metadata": {
      "needs_background": "light"
     },
     "output_type": "display_data"
    }
   ],
   "source": [
    "# Age of students\n",
    "\n",
    "# Se observa que hay posibles valores perdidos de edad (EDAD=0) o incorrectos en el contexto (EDAD=8)}\n",
    "# print('Edades menores de edad:',set(estudiantes[estudiantes['EDAD']<18]['EDAD']),'\\n')\n",
    "\n",
    "sns.boxplot(y='EDAD', x='PROGRAMA', data=estudiantes.query('EDAD >= 16'), palette='pastel').set_title('Edad de estudiantes');"
   ]
  },
  {
   "cell_type": "code",
   "execution_count": 40,
   "metadata": {},
   "outputs": [
    {
     "name": "stdout",
     "output_type": "stream",
     "text": [
      "                           EDAD                                               \\\n",
      "                          count       mean       std   min   25%   50%   75%   \n",
      "PROGRAMA                                                                       \n",
      "CIENCIA DE DATOS          811.0  30.262639  7.234780  16.0  25.0  28.0  33.5   \n",
      "INTELIGENCIA ARTIFICIAL  4896.0  32.071487  8.267872  16.0  26.0  31.0  37.0   \n",
      "\n",
      "                               \n",
      "                          max  \n",
      "PROGRAMA                       \n",
      "CIENCIA DE DATOS         65.0  \n",
      "INTELIGENCIA ARTIFICIAL  73.0  \n"
     ]
    }
   ],
   "source": [
    "# Resumen de las estadísticas de edad, sin contar datos incoherentes:\n",
    "print(estudiantes.query('EDAD >= 16').groupby('PROGRAMA').describe())"
   ]
  },
  {
   "cell_type": "code",
   "execution_count": 309,
   "metadata": {},
   "outputs": [
    {
     "data": {
      "image/png": "[encoded data removed]",
      "text/plain": [
       "<Figure size 576x216 with 2 Axes>"
      ]
     },
     "metadata": {
      "needs_background": "light"
     },
     "output_type": "display_data"
    }
   ],
   "source": [
    "# Location of students by Colombian department\n",
    "\n",
    "# Get the data by percentage of students in each department\n",
    "def top_5_departamentos(dataset,programa):\n",
    "    df = dataset[dataset[\"PROGRAMA\"] == programa]\n",
    "    total_estudiantes = len(df)\n",
    "    \n",
    "    estudiantes_dep = df.groupby('DEPARTAMENTO').size().reset_index(name='CONTEO')\n",
    "    estudiantes_dep['PORCENTAJE'] = (estudiantes_dep['CONTEO'] / total_estudiantes) * 100\n",
    "    \n",
    "    return estudiantes_dep.nlargest(5, 'CONTEO')\n",
    "\n",
    "dep_cd = top_5_departamentos(estudiantes, \"CIENCIA DE DATOS\")\n",
    "dep_ia = top_5_departamentos(estudiantes, \"INTELIGENCIA ARTIFICIAL\")\n",
    "\n",
    "\n",
    "\n",
    "# Draw the bar plots\n",
    "palette = sns.color_palette('pastel', 2)\n",
    "\n",
    "def añadir_etiquetas_porcentajes (df,ax):\n",
    "    for index, value in enumerate(df['PORCENTAJE']):\n",
    "        ax.text(value, index, f'{value:.1f}%', va='center', ha='left', fontsize=10, color='black')\n",
    "    \n",
    "    \n",
    "fig, (ax1, ax2) = plt.subplots(1, 2, figsize=(8, 3))   \n",
    "sns.despine()\n",
    "\n",
    "sns.barplot(data=dep_cd,\n",
    "            x='PORCENTAJE',\n",
    "            y='DEPARTAMENTO',\n",
    "            color=palette[0],\n",
    "            ax=ax1)\n",
    "ax1.set_title(\"Departamentos con más estudiantes\\n en ciencia de datos\")\n",
    "ax1.set(ylabel=None)\n",
    "añadir_etiquetas_porcentajes(dep_cd,ax1)\n",
    "\n",
    "sns.barplot(data=dep_ia, x='PORCENTAJE',y='DEPARTAMENTO',color=palette[1],ax=ax2)\n",
    "ax2.set_title(\"Departamentos con más estudiantes\\n en inteligencia artificial\")\n",
    "añadir_etiquetas_porcentajes(dep_ia,ax2)\n",
    "ax2.set(ylabel=None)\n",
    "\n",
    "# Set the same X-width\n",
    "max_porcentaje = max(dep_cd['PORCENTAJE'].max(), dep_ia['PORCENTAJE'].max())\n",
    "ax1.set_xlim(0, max_porcentaje)\n",
    "ax2.set_xlim(0, max_porcentaje)   \n",
    "\n",
    "plt.tight_layout()\n",
    "plt.show()"
   ]
  }
 ],
 "metadata": {
  "coursera": {
   "schema_names": [
    "mooc_adswpy_v1_assignment4"
   ]
  },
  "kernelspec": {
   "display_name": "Python 3 (ipykernel)",
   "language": "python",
   "name": "python3"
  },
  "language_info": {
   "codemirror_mode": {
    "name": "ipython",
    "version": 3
   },
   "file_extension": ".py",
   "mimetype": "text/x-python",
   "name": "python",
   "nbconvert_exporter": "python",
   "pygments_lexer": "ipython3",
   "version": "3.8.10"
  },
  "vscode": {
   "interpreter": {
    "hash": "aee8b7b246df8f9039afb4144a1f6fd8d2ca17a180786b69acc140d282b71a49"
   }
  }
 },
 "nbformat": 4,
 "nbformat_minor": 4
}
